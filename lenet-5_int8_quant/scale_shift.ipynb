{
 "cells": [
  {
   "cell_type": "code",
   "execution_count": 2,
   "id": "143518c8-687e-485e-b914-2d6310a0a76a",
   "metadata": {
    "tags": []
   },
   "outputs": [
    {
     "name": "stdout",
     "output_type": "stream",
     "text": [
      "For S = 0.0031，optimal scale = 51，shift = 14\n"
     ]
    }
   ],
   "source": [
    "def find_scale_and_shift(S, max_shift=15):\n",
    "\n",
    "    best_scale = None\n",
    "    best_shift = None\n",
    "    min_error = float('inf')\n",
    "\n",
    "    for shift in range(max_shift + 1):\n",
    "        scale = round(S * (2 ** shift))\n",
    "        approximation = scale / (2 ** shift)\n",
    "        error = abs(S - approximation)\n",
    "\n",
    "        if error < min_error:\n",
    "            min_error = error\n",
    "            best_scale = scale\n",
    "            best_shift = shift\n",
    "\n",
    "    return best_scale, best_shift\n",
    "\n",
    "S = 0.0031  \n",
    "scale, shift = find_scale_and_shift(S)\n",
    "print(f\"For S = {S}，optimal scale = {scale}，shift = {shift}\")\n"
   ]
  },
  {
   "cell_type": "code",
   "execution_count": null,
   "id": "b49cc79c-01e0-48f9-b0af-72957104f37a",
   "metadata": {},
   "outputs": [],
   "source": []
  }
 ],
 "metadata": {
  "kernelspec": {
   "display_name": "LLM",
   "language": "python",
   "name": "llm"
  },
  "language_info": {
   "codemirror_mode": {
    "name": "ipython",
    "version": 3
   },
   "file_extension": ".py",
   "mimetype": "text/x-python",
   "name": "python",
   "nbconvert_exporter": "python",
   "pygments_lexer": "ipython3",
   "version": "3.8.19"
  }
 },
 "nbformat": 4,
 "nbformat_minor": 5
}
